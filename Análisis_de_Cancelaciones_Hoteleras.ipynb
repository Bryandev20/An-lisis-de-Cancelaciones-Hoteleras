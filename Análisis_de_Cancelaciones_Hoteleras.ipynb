{
  "nbformat": 4,
  "nbformat_minor": 0,
  "metadata": {
    "colab": {
      "provenance": []
    },
    "kernelspec": {
      "name": "python3",
      "display_name": "Python 3"
    },
    "language_info": {
      "name": "python"
    }
  },
  "cells": [
    {
      "cell_type": "code",
      "execution_count": null,
      "metadata": {
        "id": "CkcKUoz_-loW"
      },
      "outputs": [],
      "source": [
        "import pandas as pd\n",
        "import seaborn as sns"
      ]
    },
    {
      "cell_type": "markdown",
      "source": [
        "# Conexion"
      ],
      "metadata": {
        "id": "XTridLx6CPkX"
      }
    },
    {
      "cell_type": "code",
      "source": [
        "link='/content/drive/MyDrive/Dataset Practicas/datasets/Proyecto 4 Análisis de Cancelaciones Hoteleras/hotel_bookings.csv'\n",
        "tabla_hotel=pd.read_csv(link, encoding='utf-8',sep=',')"
      ],
      "metadata": {
        "id": "y5Bkz6pCCTs-"
      },
      "execution_count": null,
      "outputs": []
    },
    {
      "cell_type": "code",
      "source": [
        "tabla_hotel['children'].sample(10)"
      ],
      "metadata": {
        "colab": {
          "base_uri": "https://localhost:8080/",
          "height": 398
        },
        "id": "bP5Kk_oBCzSW",
        "outputId": "b5457c53-2f3d-4dd5-ce88-5ee3a17804fe"
      },
      "execution_count": null,
      "outputs": [
        {
          "output_type": "execute_result",
          "data": {
            "text/plain": [
              "40005     0.0\n",
              "59600     0.0\n",
              "75835     0.0\n",
              "119343    0.0\n",
              "29918     0.0\n",
              "77148     0.0\n",
              "76371     0.0\n",
              "29245     0.0\n",
              "60121     0.0\n",
              "2146      0.0\n",
              "Name: children, dtype: float64"
            ],
            "text/html": [
              "<div>\n",
              "<style scoped>\n",
              "    .dataframe tbody tr th:only-of-type {\n",
              "        vertical-align: middle;\n",
              "    }\n",
              "\n",
              "    .dataframe tbody tr th {\n",
              "        vertical-align: top;\n",
              "    }\n",
              "\n",
              "    .dataframe thead th {\n",
              "        text-align: right;\n",
              "    }\n",
              "</style>\n",
              "<table border=\"1\" class=\"dataframe\">\n",
              "  <thead>\n",
              "    <tr style=\"text-align: right;\">\n",
              "      <th></th>\n",
              "      <th>children</th>\n",
              "    </tr>\n",
              "  </thead>\n",
              "  <tbody>\n",
              "    <tr>\n",
              "      <th>40005</th>\n",
              "      <td>0.0</td>\n",
              "    </tr>\n",
              "    <tr>\n",
              "      <th>59600</th>\n",
              "      <td>0.0</td>\n",
              "    </tr>\n",
              "    <tr>\n",
              "      <th>75835</th>\n",
              "      <td>0.0</td>\n",
              "    </tr>\n",
              "    <tr>\n",
              "      <th>119343</th>\n",
              "      <td>0.0</td>\n",
              "    </tr>\n",
              "    <tr>\n",
              "      <th>29918</th>\n",
              "      <td>0.0</td>\n",
              "    </tr>\n",
              "    <tr>\n",
              "      <th>77148</th>\n",
              "      <td>0.0</td>\n",
              "    </tr>\n",
              "    <tr>\n",
              "      <th>76371</th>\n",
              "      <td>0.0</td>\n",
              "    </tr>\n",
              "    <tr>\n",
              "      <th>29245</th>\n",
              "      <td>0.0</td>\n",
              "    </tr>\n",
              "    <tr>\n",
              "      <th>60121</th>\n",
              "      <td>0.0</td>\n",
              "    </tr>\n",
              "    <tr>\n",
              "      <th>2146</th>\n",
              "      <td>0.0</td>\n",
              "    </tr>\n",
              "  </tbody>\n",
              "</table>\n",
              "</div><br><label><b>dtype:</b> float64</label>"
            ]
          },
          "metadata": {},
          "execution_count": 35
        }
      ]
    },
    {
      "cell_type": "code",
      "source": [
        "tabla_hotel.info()"
      ],
      "metadata": {
        "id": "v_mCxS76FYjG",
        "outputId": "84e23b0a-1c12-46c1-83c6-24009b3b07e5",
        "colab": {
          "base_uri": "https://localhost:8080/"
        }
      },
      "execution_count": null,
      "outputs": [
        {
          "output_type": "stream",
          "name": "stdout",
          "text": [
            "<class 'pandas.core.frame.DataFrame'>\n",
            "RangeIndex: 119390 entries, 0 to 119389\n",
            "Data columns (total 31 columns):\n",
            " #   Column                          Non-Null Count   Dtype  \n",
            "---  ------                          --------------   -----  \n",
            " 0   hotel                           119390 non-null  object \n",
            " 1   is_canceled                     119390 non-null  int64  \n",
            " 2   lead_time                       119390 non-null  int64  \n",
            " 3   arrival_date_year               119390 non-null  int64  \n",
            " 4   arrival_date_month              119390 non-null  object \n",
            " 5   arrival_date_week_number        119390 non-null  int64  \n",
            " 6   arrival_date_day_of_month       119390 non-null  int64  \n",
            " 7   stays_in_weekend_nights         119390 non-null  int64  \n",
            " 8   stays_in_week_nights            119390 non-null  int64  \n",
            " 9   adults                          119390 non-null  int64  \n",
            " 10  children                        119386 non-null  float64\n",
            " 11  babies                          119390 non-null  int64  \n",
            " 12  meal                            119390 non-null  object \n",
            " 13  country                         118902 non-null  object \n",
            " 14  market_segment                  119390 non-null  object \n",
            " 15  distribution_channel            119390 non-null  object \n",
            " 16  is_repeated_guest               119390 non-null  int64  \n",
            " 17  previous_cancellations          119390 non-null  int64  \n",
            " 18  previous_bookings_not_canceled  119390 non-null  int64  \n",
            " 19  reserved_room_type              119390 non-null  object \n",
            " 20  assigned_room_type              119390 non-null  object \n",
            " 21  booking_changes                 119390 non-null  int64  \n",
            " 22  agent                           103050 non-null  float64\n",
            " 23  company                         6797 non-null    float64\n",
            " 24  days_in_waiting_list            119390 non-null  int64  \n",
            " 25  customer_type                   119390 non-null  object \n",
            " 26  adr                             119390 non-null  float64\n",
            " 27  required_car_parking_spaces     119390 non-null  int64  \n",
            " 28  total_of_special_requests       119390 non-null  int64  \n",
            " 29  reservation_status              119390 non-null  object \n",
            " 30  reservation_status_date         119390 non-null  object \n",
            "dtypes: float64(4), int64(16), object(11)\n",
            "memory usage: 28.2+ MB\n"
          ]
        }
      ]
    },
    {
      "cell_type": "markdown",
      "source": [],
      "metadata": {
        "id": "p9TEF9iQFVhO"
      }
    },
    {
      "cell_type": "markdown",
      "source": [
        "# Manejo de datos faltantes"
      ],
      "metadata": {
        "id": "HlNdtYJbF10X"
      }
    },
    {
      "cell_type": "code",
      "source": [
        "datos_faltantes=tabla_hotel.isnull().mean()*100\n",
        "print(datos_faltantes)\n",
        "sns.heatmap(tabla_hotel.isnull(),yticklabels=False,cbar=False)\n"
      ],
      "metadata": {
        "colab": {
          "base_uri": "https://localhost:8080/",
          "height": 1000
        },
        "id": "F5jnrwz-F6L2",
        "outputId": "00ea0875-ad83-4314-d03c-f36123287fae"
      },
      "execution_count": null,
      "outputs": [
        {
          "output_type": "stream",
          "name": "stdout",
          "text": [
            "hotel                              0.000000\n",
            "is_canceled                        0.000000\n",
            "lead_time                          0.000000\n",
            "arrival_date_year                  0.000000\n",
            "arrival_date_month                 0.000000\n",
            "arrival_date_week_number           0.000000\n",
            "arrival_date_day_of_month          0.000000\n",
            "stays_in_weekend_nights            0.000000\n",
            "stays_in_week_nights               0.000000\n",
            "adults                             0.000000\n",
            "children                           0.003350\n",
            "babies                             0.000000\n",
            "meal                               0.000000\n",
            "country                            0.408744\n",
            "market_segment                     0.000000\n",
            "distribution_channel               0.000000\n",
            "is_repeated_guest                  0.000000\n",
            "previous_cancellations             0.000000\n",
            "previous_bookings_not_canceled     0.000000\n",
            "reserved_room_type                 0.000000\n",
            "assigned_room_type                 0.000000\n",
            "booking_changes                    0.000000\n",
            "agent                             13.686238\n",
            "company                           94.306893\n",
            "days_in_waiting_list               0.000000\n",
            "customer_type                      0.000000\n",
            "adr                                0.000000\n",
            "required_car_parking_spaces        0.000000\n",
            "total_of_special_requests          0.000000\n",
            "reservation_status                 0.000000\n",
            "reservation_status_date            0.000000\n",
            "dtype: float64\n"
          ]
        },
        {
          "output_type": "execute_result",
          "data": {
            "text/plain": [
              "<Axes: >"
            ]
          },
          "metadata": {},
          "execution_count": 12
        },
        {
          "output_type": "display_data",
          "data": {
            "text/plain": [
              "<Figure size 640x480 with 1 Axes>"
            ],
            "image/png": "[encoded data removed]"
          },
          "metadata": {}
        }
      ]
    },
    {
      "cell_type": "code",
      "source": [
        "# RELLENAR LOS VALORES FALTANTES\n",
        "tabla_hotel['children'] = tabla_hotel['children'].fillna(0)\n"
      ],
      "metadata": {
        "id": "VbcH2ljTLQWI"
      },
      "execution_count": 37,
      "outputs": []
    },
    {
      "cell_type": "code",
      "source": [
        "# RELLENAR LOS VALORES FALTANTES DE COUNTRY\n",
        "moda_country=tabla_hotel['country'].mode()[0]\n",
        "\n",
        "tabla_hotel['country']=tabla_hotel['country'].fillna(moda_country)"
      ],
      "metadata": {
        "id": "Qb1JrmrjNonQ"
      },
      "execution_count": 38,
      "outputs": []
    },
    {
      "cell_type": "markdown",
      "source": [
        "# Limpieza"
      ],
      "metadata": {
        "id": "igVbpaJDPtWu"
      }
    },
    {
      "cell_type": "code",
      "source": [
        "tabla_hotel.columns"
      ],
      "metadata": {
        "colab": {
          "base_uri": "https://localhost:8080/"
        },
        "id": "SfELEaF9PwXu",
        "outputId": "797e578d-aa71-4080-9e36-787a1e1756c2"
      },
      "execution_count": 40,
      "outputs": [
        {
          "output_type": "execute_result",
          "data": {
            "text/plain": [
              "Index(['hotel', 'is_canceled', 'lead_time', 'arrival_date_year',\n",
              "       'arrival_date_month', 'arrival_date_week_number',\n",
              "       'arrival_date_day_of_month', 'stays_in_weekend_nights',\n",
              "       'stays_in_week_nights', 'adults', 'children', 'babies', 'meal',\n",
              "       'country', 'market_segment', 'distribution_channel',\n",
              "       'is_repeated_guest', 'previous_cancellations',\n",
              "       'previous_bookings_not_canceled', 'reserved_room_type',\n",
              "       'assigned_room_type', 'booking_changes', 'agent', 'company',\n",
              "       'days_in_waiting_list', 'customer_type', 'adr',\n",
              "       'required_car_parking_spaces', 'total_of_special_requests',\n",
              "       'reservation_status', 'reservation_status_date'],\n",
              "      dtype='object')"
            ]
          },
          "metadata": {},
          "execution_count": 40
        }
      ]
    },
    {
      "cell_type": "code",
      "source": [
        "columnas_eliminadas = [\n",
        "    'stays_in_weekend_nights',\n",
        "    'stays_in_week_nights',\n",
        "    'meal',\n",
        "    'is_repeated_guest',\n",
        "    'previous_cancellations',\n",
        "    'previous_bookings_not_canceled',\n",
        "    'reserved_room_type',\n",
        "    'assigned_room_type',\n",
        "    'booking_changes',\n",
        "    'agent',\n",
        "    'company',\n",
        "    'days_in_waiting_list',\n",
        "    'adr',\n",
        "    'required_car_parking_spaces',\n",
        "    'total_of_special_requests'\n",
        "]\n",
        "\n",
        "tabla_hotel.drop(columns=columnas_eliminadas,inplace=True)"
      ],
      "metadata": {
        "id": "3Ue5nT9DP5j-"
      },
      "execution_count": 41,
      "outputs": []
    },
    {
      "cell_type": "code",
      "source": [
        "print(tabla_hotel.isnull().sum())"
      ],
      "metadata": {
        "colab": {
          "base_uri": "https://localhost:8080/"
        },
        "outputId": "f43c8423-8ccd-4e8d-bc1b-fedc90929074",
        "id": "tfCXC7W5Qt0m"
      },
      "execution_count": 45,
      "outputs": [
        {
          "output_type": "stream",
          "name": "stdout",
          "text": [
            "hotel                        0\n",
            "is_canceled                  0\n",
            "lead_time                    0\n",
            "arrival_date_year            0\n",
            "arrival_date_month           0\n",
            "arrival_date_week_number     0\n",
            "arrival_date_day_of_month    0\n",
            "adults                       0\n",
            "children                     0\n",
            "babies                       0\n",
            "country                      0\n",
            "market_segment               0\n",
            "distribution_channel         0\n",
            "customer_type                0\n",
            "reservation_status           0\n",
            "reservation_status_date      0\n",
            "dtype: int64\n"
          ]
        }
      ]
    },
    {
      "cell_type": "code",
      "source": [
        "nombres={\n",
        "    'is_canceled': 'cancelado',\n",
        "    'lead_time': 'anticipacion_reserva',\n",
        "    'arrival_date_year': 'anio_llegada',\n",
        "    'arrival_date_month': 'mes_llegada',\n",
        "    'arrival_date_week_number': 'semana_llegada',\n",
        "    'arrival_date_day_of_month': 'dia_llegada',\n",
        "    'adults': 'adultos',\n",
        "    'children': 'ninos',\n",
        "    'babies': 'bebes',\n",
        "    'country': 'pais',\n",
        "    'market_segment': 'segmento_mercado',\n",
        "    'distribution_channel': 'canal_distribucion',\n",
        "    'customer_type': 'tipo_cliente',\n",
        "    'reservation_status': 'estado_reserva',\n",
        "    'reservation_status_date': 'fecha_estado_reserva'\n",
        "}\n",
        "tabla_hotel.rename(columns=nombres,inplace=True)"
      ],
      "metadata": {
        "id": "RfUtmHcWQZwq"
      },
      "execution_count": 46,
      "outputs": []
    },
    {
      "cell_type": "code",
      "source": [
        "tabla_hotel.info()"
      ],
      "metadata": {
        "colab": {
          "base_uri": "https://localhost:8080/"
        },
        "id": "AyibBggXUAJX",
        "outputId": "93cdcc4a-2acb-435f-d3c1-f80165584a9a"
      },
      "execution_count": 47,
      "outputs": [
        {
          "output_type": "stream",
          "name": "stdout",
          "text": [
            "<class 'pandas.core.frame.DataFrame'>\n",
            "RangeIndex: 119390 entries, 0 to 119389\n",
            "Data columns (total 16 columns):\n",
            " #   Column                Non-Null Count   Dtype  \n",
            "---  ------                --------------   -----  \n",
            " 0   hotel                 119390 non-null  object \n",
            " 1   cancelado             119390 non-null  int64  \n",
            " 2   anticipacion_reserva  119390 non-null  int64  \n",
            " 3   anio_llegada          119390 non-null  int64  \n",
            " 4   mes_llegada           119390 non-null  object \n",
            " 5   semana_llegada        119390 non-null  int64  \n",
            " 6   dia_llegada           119390 non-null  int64  \n",
            " 7   adultos               119390 non-null  int64  \n",
            " 8   ninos                 119390 non-null  float64\n",
            " 9   bebes                 119390 non-null  int64  \n",
            " 10  pais                  119390 non-null  object \n",
            " 11  segmento_mercado      119390 non-null  object \n",
            " 12  canal_distribucion    119390 non-null  object \n",
            " 13  tipo_cliente          119390 non-null  object \n",
            " 14  estado_reserva        119390 non-null  object \n",
            " 15  fecha_estado_reserva  119390 non-null  object \n",
            "dtypes: float64(1), int64(7), object(8)\n",
            "memory usage: 14.6+ MB\n"
          ]
        }
      ]
    },
    {
      "cell_type": "markdown",
      "source": [
        "# Descargar datasetLimpio"
      ],
      "metadata": {
        "id": "j8oUnBoqUS72"
      }
    },
    {
      "cell_type": "code",
      "source": [
        "from google.colab import files\n",
        "\n",
        "# Guardar CSV\n",
        "#df_netflix_limpio.to_csv(\"netflix_limpio.csv\", index=False, encoding=\"utf-8-sig\")\n",
        "tabla_hotel.to_csv(\"dataset_hotel.csv\", index=False, encoding=\"utf-8\")\n",
        "\n",
        "\n",
        "# Descargar a tu PC\n",
        "files.download(\"dataset_hotel.csv\")"
      ],
      "metadata": {
        "colab": {
          "base_uri": "https://localhost:8080/",
          "height": 17
        },
        "id": "PWe-gnw8UWTO",
        "outputId": "e34750c2-562f-46d7-b7b0-c1275aefd3a0"
      },
      "execution_count": 48,
      "outputs": [
        {
          "output_type": "display_data",
          "data": {
            "text/plain": [
              "<IPython.core.display.Javascript object>"
            ],
            "application/javascript": [
              "\n",
              "    async function download(id, filename, size) {\n",
              "      if (!google.colab.kernel.accessAllowed) {\n",
              "        return;\n",
              "      }\n",
              "      const div = document.createElement('div');\n",
              "      const label = document.createElement('label');\n",
              "      label.textContent = `Downloading \"${filename}\": `;\n",
              "      div.appendChild(label);\n",
              "      const progress = document.createElement('progress');\n",
              "      progress.max = size;\n",
              "      div.appendChild(progress);\n",
              "      document.body.appendChild(div);\n",
              "\n",
              "      const buffers = [];\n",
              "      let downloaded = 0;\n",
              "\n",
              "      const channel = await google.colab.kernel.comms.open(id);\n",
              "      // Send a message to notify the kernel that we're ready.\n",
              "      channel.send({})\n",
              "\n",
              "      for await (const message of channel.messages) {\n",
              "        // Send a message to notify the kernel that we're ready.\n",
              "        channel.send({})\n",
              "        if (message.buffers) {\n",
              "          for (const buffer of message.buffers) {\n",
              "            buffers.push(buffer);\n",
              "            downloaded += buffer.byteLength;\n",
              "            progress.value = downloaded;\n",
              "          }\n",
              "        }\n",
              "      }\n",
              "      const blob = new Blob(buffers, {type: 'application/binary'});\n",
              "      const a = document.createElement('a');\n",
              "      a.href = window.URL.createObjectURL(blob);\n",
              "      a.download = filename;\n",
              "      div.appendChild(a);\n",
              "      a.click();\n",
              "      div.remove();\n",
              "    }\n",
              "  "
            ]
          },
          "metadata": {}
        },
        {
          "output_type": "display_data",
          "data": {
            "text/plain": [
              "<IPython.core.display.Javascript object>"
            ],
            "application/javascript": [
              "download(\"download_f53837f1-87c0-4f37-936b-5dc2a92dbc0b\", \"dataset_hotel.csv\", 11014658)"
            ]
          },
          "metadata": {}
        }
      ]
    }
  ]
}